{
  "cells": [
    {
      "cell_type": "markdown",
      "metadata": {
        "id": "ewDGRkAAEtA5"
      },
      "source": [
        "# Assistente Virtual para Google Colab"
      ]
    },
    {
      "cell_type": "markdown",
      "metadata": {
        "id": "6M3YnI2HEtBD"
      },
      "source": [
        "## 1. Instalação das Dependências"
      ]
    },
    {
      "cell_type": "code",
      "execution_count": null,
      "metadata": {
        "colab": {
          "base_uri": "https://localhost:8080/"
        },
        "id": "7PgQMmRUEtBF",
        "outputId": "2d426657-01f5-4ce2-f8ea-eeea38715972"
      },
      "outputs": [
        {
          "output_type": "stream",
          "name": "stdout",
          "text": [
            "Requirement already satisfied: gTTS in /usr/local/lib/python3.12/dist-packages (2.5.4)\n",
            "Requirement already satisfied: SpeechRecognition in /usr/local/lib/python3.12/dist-packages (3.14.3)\n",
            "Requirement already satisfied: wikipedia in /usr/local/lib/python3.12/dist-packages (1.4.0)\n",
            "Requirement already satisfied: ffmpeg-python in /usr/local/lib/python3.12/dist-packages (0.2.0)\n",
            "Requirement already satisfied: requests<3,>=2.27 in /usr/local/lib/python3.12/dist-packages (from gTTS) (2.32.4)\n",
            "Requirement already satisfied: click<8.2,>=7.1 in /usr/local/lib/python3.12/dist-packages (from gTTS) (8.1.8)\n",
            "Requirement already satisfied: typing-extensions in /usr/local/lib/python3.12/dist-packages (from SpeechRecognition) (4.15.0)\n",
            "Requirement already satisfied: beautifulsoup4 in /usr/local/lib/python3.12/dist-packages (from wikipedia) (4.13.5)\n",
            "Requirement already satisfied: future in /usr/local/lib/python3.12/dist-packages (from ffmpeg-python) (1.0.0)\n",
            "Requirement already satisfied: charset_normalizer<4,>=2 in /usr/local/lib/python3.12/dist-packages (from requests<3,>=2.27->gTTS) (3.4.3)\n",
            "Requirement already satisfied: idna<4,>=2.5 in /usr/local/lib/python3.12/dist-packages (from requests<3,>=2.27->gTTS) (3.10)\n",
            "Requirement already satisfied: urllib3<3,>=1.21.1 in /usr/local/lib/python3.12/dist-packages (from requests<3,>=2.27->gTTS) (2.5.0)\n",
            "Requirement already satisfied: certifi>=2017.4.17 in /usr/local/lib/python3.12/dist-packages (from requests<3,>=2.27->gTTS) (2025.8.3)\n",
            "Requirement already satisfied: soupsieve>1.2 in /usr/local/lib/python3.12/dist-packages (from beautifulsoup4->wikipedia) (2.8)\n"
          ]
        }
      ],
      "source": [
        "!pip install gTTS SpeechRecognition wikipedia ffmpeg-python"
      ]
    },
    {
      "cell_type": "markdown",
      "metadata": {
        "id": "5kcW5SU6EtBI"
      },
      "source": [
        "## 2. Código de Captura de Áudio do Navegador\n",
        "Esta célula contém o código necessário para gravar áudio do seu microfone no navegador e passá-lo para o ambiente Python do Colab."
      ]
    },
    {
      "cell_type": "code",
      "execution_count": null,
      "metadata": {
        "id": "GjFiKdeiEtBL"
      },
      "outputs": [],
      "source": [
        "from IPython.display import HTML, Audio\n",
        "from google.colab.output import eval_js\n",
        "from base64 import b64decode\n",
        "import numpy as np\n",
        "from scipy.io.wavfile import read as wav_read\n",
        "import io\n",
        "import ffmpeg\n",
        "\n",
        "AUDIO_HTML = \"\"\"\n",
        "<script>\n",
        "var my_div = document.createElement(\"div\");\n",
        "var my_p = document.createElement(\"p\");\n",
        "var my_btn = document.createElement(\"button\");\n",
        "var t = document.createTextNode(\"Press to start recording\");\n",
        "\n",
        "my_btn.appendChild(t);\n",
        "my_div.appendChild(my_btn);\n",
        "document.body.appendChild(my_div);\n",
        "\n",
        "var base64data = 0;\n",
        "var reader;\n",
        "var recorder, gumStream;\n",
        "var recordButton = my_btn;\n",
        "\n",
        "var handleSuccess = function(stream) {\n",
        "  gumStream = stream;\n",
        "  recorder = new MediaRecorder(stream);\n",
        "  recorder.ondataavailable = function(e) {\n",
        "    var url = URL.createObjectURL(e.data);\n",
        "    var preview = document.createElement('audio');\n",
        "    preview.controls = true;\n",
        "    preview.src = url;\n",
        "    document.body.appendChild(preview);\n",
        "\n",
        "    reader = new FileReader();\n",
        "    reader.readAsDataURL(e.data);\n",
        "    reader.onloadend = function() {\n",
        "      base64data = reader.result;\n",
        "    }\n",
        "  };\n",
        "  recorder.start();\n",
        "  recordButton.innerText = \"Recording... press to stop\";\n",
        "};\n",
        "\n",
        "recordButton.onclick = function() {\n",
        "  if (recorder && recorder.state == \"recording\") {\n",
        "      recorder.stop();\n",
        "      gumStream.getAudioTracks()[0].stop();\n",
        "      recordButton.innerText = \"Saving the recording... please wait!\";\n",
        "  } else {\n",
        "    navigator.mediaDevices.getUserMedia({audio: true}).then(handleSuccess);\n",
        "  }\n",
        "};\n",
        "</script>\n",
        "\"\"\"\n",
        "\n",
        "def get_audio_from_browser():\n",
        "  display(HTML(AUDIO_HTML))\n",
        "  data = eval_js(\"base64data\")\n",
        "  binary = b64decode(data.split(',')[1])\n",
        "\n",
        "  process = (ffmpeg\n",
        "    .input('pipe:0')\n",
        "    .output('pipe:1', format='wav')\n",
        "    .run_async(pipe_stdin=True, pipe_stdout=True, pipe_stderr=True, quiet=True, overwrite_output=True))\n",
        "\n",
        "  output, err = process.communicate(input=binary)\n",
        "\n",
        "  riff_chunk_size = len(output) - 8\n",
        "  # Break up the chunk size into four bytes, held in b.\n",
        "  q = riff_chunk_size\n",
        "  b = []\n",
        "  for i in range(4):\n",
        "      q, r = divmod(q, 256)\n",
        "      b.append(r)\n",
        "\n",
        "  # Replace bytes 4:8 in proc.stdout with the actual size of the RIFF chunk.\n",
        "  riff = output[:4] + bytes(b) + output[8:]\n",
        "\n",
        "  return riff"
      ]
    },
    {
      "cell_type": "markdown",
      "metadata": {
        "id": "XydvXp2tEtBP"
      },
      "source": [
        "## 3. Criação dos Módulos Python"
      ]
    },
    {
      "cell_type": "code",
      "execution_count": null,
      "metadata": {
        "colab": {
          "base_uri": "https://localhost:8080/"
        },
        "id": "w6K9qXbkEtBR",
        "outputId": "f2012d91-8dc3-49cc-c7ac-59e217036a0a"
      },
      "outputs": [
        {
          "output_type": "stream",
          "name": "stdout",
          "text": [
            "Overwriting speech.py\n"
          ]
        }
      ],
      "source": [
        "%%writefile speech.py\n",
        "from gtts import gTTS\n",
        "from IPython.display import Audio, display\n",
        "import speech_recognition as sr\n",
        "\n",
        "def speak(text, lang='pt-br'):\n",
        "    \"\"\"Converte texto em áudio e o exibe no Colab.\"\"\"\n",
        "    try:\n",
        "        tts = gTTS(text=text, lang=lang, slow=False)\n",
        "        audio_file = 'audio.mp3'\n",
        "        tts.save(audio_file)\n",
        "        print(f\"Assistente: {text}\")\n",
        "        display(Audio(audio_file, autoplay=True))\n",
        "    except Exception as e:\n",
        "        print(f\"Erro ao tentar falar: {e}\")\n",
        "\n",
        "# A função get_audio será diferente, usando o helper do Colab\n",
        "# A definição final será no script principal do notebook"
      ]
    },
    {
      "cell_type": "code",
      "execution_count": null,
      "metadata": {
        "colab": {
          "base_uri": "https://localhost:8080/"
        },
        "id": "zzYRsEIzEtBT",
        "outputId": "d5ee3fc3-8514-4c4b-903a-5d38c1c2f163"
      },
      "outputs": [
        {
          "output_type": "stream",
          "name": "stdout",
          "text": [
            "Writing commands.py\n"
          ]
        }
      ],
      "source": [
        "%%writefile commands.py\n",
        "import webbrowser\n",
        "import wikipedia\n",
        "import random\n",
        "from datetime import datetime\n",
        "from speech import speak\n",
        "\n",
        "wikipedia.set_lang(\"pt\")\n",
        "\n",
        "def search_youtube(keyword):\n",
        "    url = f\"https://www.youtube.com/results?search_query={keyword}\"\n",
        "    print(f\"Abra este link no seu navegador: {url}\")\n",
        "    speak(f\"Aqui está o que eu encontrei para {keyword} no youtube\")\n",
        "\n",
        "def search_wikipedia(query):\n",
        "    try:\n",
        "        result = wikipedia.summary(query, sentences=3)\n",
        "        speak(\"De acordo com a Wikipedia\")\n",
        "        print(result)\n",
        "        speak(result)\n",
        "    except wikipedia.exceptions.PageError:\n",
        "        speak(f\"Não encontrei nenhum resultado para {query} na Wikipedia.\")\n",
        "    except wikipedia.exceptions.DisambiguationError as e:\n",
        "        speak(f\"Existem múltiplos resultados para {query}. Por favor, seja mais específico.\")\n",
        "\n",
        "def get_joke():\n",
        "    jokes = [\"O que o pato disse para a pata? Vem quá!\", \"Qual é a fórmula da água benta? H Deus O!\"]\n",
        "    speak(random.choice(jokes))\n",
        "\n",
        "def get_time():\n",
        "    strTime = datetime.now().strftime(\"%H:%M\")\n",
        "    speak(f\"São {strTime}\")\n",
        "\n",
        "def find_pharmacy():\n",
        "    url = \"https://www.google.com/maps/search/farmácias\"\n",
        "    print(f\"Abra este link no seu navegador: {url}\")\n",
        "    speak(\"Mostrando o mapa com as farmácias mais próximas.\")"
      ]
    },
    {
      "cell_type": "markdown",
      "metadata": {
        "id": "iORADh63EtBV"
      },
      "source": [
        "## 4. Execução do Assistente Virtual"
      ]
    },
    {
      "cell_type": "code",
      "execution_count": null,
      "metadata": {
        "id": "MTNY-LR3EtBX"
      },
      "outputs": [],
      "source": [
        "import speech_recognition as sr\n",
        "from speech import speak\n",
        "from commands import search_youtube, search_wikipedia, get_joke, get_time, find_pharmacy\n",
        "import io\n",
        "\n",
        "def get_audio_colab():\n",
        "    r = sr.Recognizer()\n",
        "    audio_data = get_audio_from_browser()\n",
        "    with io.BytesIO(audio_data) as f:\n",
        "        audio = sr.AudioFile(f)\n",
        "        with r as source:\n",
        "            audio_record = r.record(audio)\n",
        "    try:\n",
        "        text = r.recognize_google(audio_record, language='pt-BR')\n",
        "        print(f\"Você disse: {text}\")\n",
        "        return text.lower()\n",
        "    except sr.UnknownValueError:\n",
        "        speak(\"Desculpe, não entendi.\")\n",
        "    except sr.RequestError:\n",
        "        speak(\"Desculpe, o serviço não está disponível.\")\n",
        "    return \"\"\n",
        "\n",
        "def run_assistant():\n",
        "    speak(\"Olá! Como posso ajudar? Diga um comando.\")\n",
        "    text = get_audio_colab()\n",
        "    if text:\n",
        "        if 'youtube' in text:\n",
        "            speak(\"O que você quer pesquisar no Youtube?\")\n",
        "            keyword = get_audio_colab()\n",
        "            if keyword:\n",
        "                search_youtube(keyword)\n",
        "        elif 'pesquisar' in text:\n",
        "            speak(\"O que você quer pesquisar?\")\n",
        "            query = get_audio_colab()\n",
        "            if query:\n",
        "                search_wikipedia(query)\n",
        "        elif 'piada' in text:\n",
        "            get_joke()\n",
        "        elif 'que horas são' in text:\n",
        "            get_time()\n",
        "        elif 'farmácia' in text:\n",
        "            find_pharmacy()\n",
        "        else:\n",
        "            speak(\"Comando não reconhecido.\")\n",
        "\n",
        "# Para executar, chame a função run_assistant() na célula abaixo"
      ]
    },
    {
      "cell_type": "code",
      "execution_count": null,
      "metadata": {
        "colab": {
          "base_uri": "https://localhost:8080/",
          "height": 401
        },
        "id": "DqbJTFRiEtBZ",
        "outputId": "444eaed6-47eb-4e73-a081-5743c211865f"
      },
      "outputs": [
        {
          "output_type": "stream",
          "name": "stderr",
          "text": [
            "WARNING:gtts.lang:'pt-br' has been deprecated, falling back to 'pt'. This fallback will be removed in a future version.\n"
          ]
        },
        {
          "output_type": "stream",
          "name": "stdout",
          "text": [
            "Assistente: Olá! Como posso ajudar? Diga um comando.\n"
          ]
        },
        {
          "output_type": "display_data",
          "data": {
            "text/plain": [
              "<IPython.lib.display.Audio object>"
            ],
            "text/html": [
              "\n",
              "                <audio  controls=\"controls\" autoplay=\"autoplay\">\n",
              "                    <source src=\"data:audio/mpeg;base64,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\" type=\"audio/mpeg\" />\n",
              "                    Your browser does not support the audio element.\n",
              "                </audio>\n",
              "              "
            ]
          },
          "metadata": {}
        },
        {
          "output_type": "display_data",
          "data": {
            "text/plain": [
              "<IPython.core.display.HTML object>"
            ],
            "text/html": [
              "\n",
              "<script>\n",
              "var my_div = document.createElement(\"div\");\n",
              "var my_p = document.createElement(\"p\");\n",
              "var my_btn = document.createElement(\"button\");\n",
              "var t = document.createTextNode(\"Press to start recording\");\n",
              "\n",
              "my_btn.appendChild(t);\n",
              "my_div.appendChild(my_btn);\n",
              "document.body.appendChild(my_div);\n",
              "\n",
              "var base64data = 0;\n",
              "var reader;\n",
              "var recorder, gumStream;\n",
              "var recordButton = my_btn;\n",
              "\n",
              "var handleSuccess = function(stream) {\n",
              "  gumStream = stream;\n",
              "  recorder = new MediaRecorder(stream);\n",
              "  recorder.ondataavailable = function(e) {\n",
              "    var url = URL.createObjectURL(e.data);\n",
              "    var preview = document.createElement('audio');\n",
              "    preview.controls = true;\n",
              "    preview.src = url;\n",
              "    document.body.appendChild(preview);\n",
              "\n",
              "    reader = new FileReader();\n",
              "    reader.readAsDataURL(e.data); \n",
              "    reader.onloadend = function() {\n",
              "      base64data = reader.result;\n",
              "    }\n",
              "  };\n",
              "  recorder.start();\n",
              "  recordButton.innerText = \"Recording... press to stop\";\n",
              "};\n",
              "\n",
              "recordButton.onclick = function() {\n",
              "  if (recorder && recorder.state == \"recording\") {\n",
              "      recorder.stop();\n",
              "      gumStream.getAudioTracks()[0].stop();\n",
              "      recordButton.innerText = \"Saving the recording... please wait!\";\n",
              "  } else {\n",
              "    navigator.mediaDevices.getUserMedia({audio: true}).then(handleSuccess);\n",
              "  }\n",
              "};\n",
              "</script>\n"
            ]
          },
          "metadata": {}
        },
        {
          "output_type": "error",
          "ename": "AttributeError",
          "evalue": "'int' object has no attribute 'split'",
          "traceback": [
            "\u001b[0;31m---------------------------------------------------------------------------\u001b[0m",
            "\u001b[0;31mAttributeError\u001b[0m                            Traceback (most recent call last)",
            "\u001b[0;32m/tmp/ipython-input-2116586995.py\u001b[0m in \u001b[0;36m<cell line: 0>\u001b[0;34m()\u001b[0m\n\u001b[0;32m----> 1\u001b[0;31m \u001b[0mrun_assistant\u001b[0m\u001b[0;34m(\u001b[0m\u001b[0;34m)\u001b[0m\u001b[0;34m\u001b[0m\u001b[0;34m\u001b[0m\u001b[0m\n\u001b[0m",
            "\u001b[0;32m/tmp/ipython-input-228711577.py\u001b[0m in \u001b[0;36mrun_assistant\u001b[0;34m()\u001b[0m\n\u001b[1;32m     23\u001b[0m \u001b[0;32mdef\u001b[0m \u001b[0mrun_assistant\u001b[0m\u001b[0;34m(\u001b[0m\u001b[0;34m)\u001b[0m\u001b[0;34m:\u001b[0m\u001b[0;34m\u001b[0m\u001b[0;34m\u001b[0m\u001b[0m\n\u001b[1;32m     24\u001b[0m     \u001b[0mspeak\u001b[0m\u001b[0;34m(\u001b[0m\u001b[0;34m\"Olá! Como posso ajudar? Diga um comando.\"\u001b[0m\u001b[0;34m)\u001b[0m\u001b[0;34m\u001b[0m\u001b[0;34m\u001b[0m\u001b[0m\n\u001b[0;32m---> 25\u001b[0;31m     \u001b[0mtext\u001b[0m \u001b[0;34m=\u001b[0m \u001b[0mget_audio_colab\u001b[0m\u001b[0;34m(\u001b[0m\u001b[0;34m)\u001b[0m\u001b[0;34m\u001b[0m\u001b[0;34m\u001b[0m\u001b[0m\n\u001b[0m\u001b[1;32m     26\u001b[0m     \u001b[0;32mif\u001b[0m \u001b[0mtext\u001b[0m\u001b[0;34m:\u001b[0m\u001b[0;34m\u001b[0m\u001b[0;34m\u001b[0m\u001b[0m\n\u001b[1;32m     27\u001b[0m         \u001b[0;32mif\u001b[0m \u001b[0;34m'youtube'\u001b[0m \u001b[0;32min\u001b[0m \u001b[0mtext\u001b[0m\u001b[0;34m:\u001b[0m\u001b[0;34m\u001b[0m\u001b[0;34m\u001b[0m\u001b[0m\n",
            "\u001b[0;32m/tmp/ipython-input-228711577.py\u001b[0m in \u001b[0;36mget_audio_colab\u001b[0;34m()\u001b[0m\n\u001b[1;32m      6\u001b[0m \u001b[0;32mdef\u001b[0m \u001b[0mget_audio_colab\u001b[0m\u001b[0;34m(\u001b[0m\u001b[0;34m)\u001b[0m\u001b[0;34m:\u001b[0m\u001b[0;34m\u001b[0m\u001b[0;34m\u001b[0m\u001b[0m\n\u001b[1;32m      7\u001b[0m     \u001b[0mr\u001b[0m \u001b[0;34m=\u001b[0m \u001b[0msr\u001b[0m\u001b[0;34m.\u001b[0m\u001b[0mRecognizer\u001b[0m\u001b[0;34m(\u001b[0m\u001b[0;34m)\u001b[0m\u001b[0;34m\u001b[0m\u001b[0;34m\u001b[0m\u001b[0m\n\u001b[0;32m----> 8\u001b[0;31m     \u001b[0maudio_data\u001b[0m \u001b[0;34m=\u001b[0m \u001b[0mget_audio_from_browser\u001b[0m\u001b[0;34m(\u001b[0m\u001b[0;34m)\u001b[0m\u001b[0;34m\u001b[0m\u001b[0;34m\u001b[0m\u001b[0m\n\u001b[0m\u001b[1;32m      9\u001b[0m     \u001b[0;32mwith\u001b[0m \u001b[0mio\u001b[0m\u001b[0;34m.\u001b[0m\u001b[0mBytesIO\u001b[0m\u001b[0;34m(\u001b[0m\u001b[0maudio_data\u001b[0m\u001b[0;34m)\u001b[0m \u001b[0;32mas\u001b[0m \u001b[0mf\u001b[0m\u001b[0;34m:\u001b[0m\u001b[0;34m\u001b[0m\u001b[0;34m\u001b[0m\u001b[0m\n\u001b[1;32m     10\u001b[0m         \u001b[0maudio\u001b[0m \u001b[0;34m=\u001b[0m \u001b[0msr\u001b[0m\u001b[0;34m.\u001b[0m\u001b[0mAudioFile\u001b[0m\u001b[0;34m(\u001b[0m\u001b[0mf\u001b[0m\u001b[0;34m)\u001b[0m\u001b[0;34m\u001b[0m\u001b[0;34m\u001b[0m\u001b[0m\n",
            "\u001b[0;32m/tmp/ipython-input-1362032006.py\u001b[0m in \u001b[0;36mget_audio_from_browser\u001b[0;34m()\u001b[0m\n\u001b[1;32m     58\u001b[0m   \u001b[0mdisplay\u001b[0m\u001b[0;34m(\u001b[0m\u001b[0mHTML\u001b[0m\u001b[0;34m(\u001b[0m\u001b[0mAUDIO_HTML\u001b[0m\u001b[0;34m)\u001b[0m\u001b[0;34m)\u001b[0m\u001b[0;34m\u001b[0m\u001b[0;34m\u001b[0m\u001b[0m\n\u001b[1;32m     59\u001b[0m   \u001b[0mdata\u001b[0m \u001b[0;34m=\u001b[0m \u001b[0meval_js\u001b[0m\u001b[0;34m(\u001b[0m\u001b[0;34m\"base64data\"\u001b[0m\u001b[0;34m)\u001b[0m\u001b[0;34m\u001b[0m\u001b[0;34m\u001b[0m\u001b[0m\n\u001b[0;32m---> 60\u001b[0;31m   \u001b[0mbinary\u001b[0m \u001b[0;34m=\u001b[0m \u001b[0mb64decode\u001b[0m\u001b[0;34m(\u001b[0m\u001b[0mdata\u001b[0m\u001b[0;34m.\u001b[0m\u001b[0msplit\u001b[0m\u001b[0;34m(\u001b[0m\u001b[0;34m','\u001b[0m\u001b[0;34m)\u001b[0m\u001b[0;34m[\u001b[0m\u001b[0;36m1\u001b[0m\u001b[0;34m]\u001b[0m\u001b[0;34m)\u001b[0m\u001b[0;34m\u001b[0m\u001b[0;34m\u001b[0m\u001b[0m\n\u001b[0m\u001b[1;32m     61\u001b[0m \u001b[0;34m\u001b[0m\u001b[0m\n\u001b[1;32m     62\u001b[0m   process = (ffmpeg\n",
            "\u001b[0;31mAttributeError\u001b[0m: 'int' object has no attribute 'split'"
          ]
        }
      ],
      "source": [
        "run_assistant()"
      ]
    }
  ],
  "metadata": {
    "kernelspec": {
      "display_name": "Python 3",
      "name": "python3"
    },
    "language_info": {
      "name": "python"
    },
    "colab": {
      "provenance": []
    }
  },
  "nbformat": 4,
  "nbformat_minor": 0
}