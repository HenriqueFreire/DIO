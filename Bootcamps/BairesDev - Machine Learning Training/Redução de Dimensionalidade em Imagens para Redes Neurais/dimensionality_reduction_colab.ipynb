{
 "cells": [
  {
   "cell_type": "markdown",
   "metadata": {},
   "source": [
    "# Redução de Dimensionalidade em Imagens no Google Colab\n",
    "\n",
    "Este notebook demonstra a manipulação de imagens (conversão para escala de cinza e binarização) em Python puro. A biblioteca Pillow é usada apenas como uma ferramenta auxiliar para carregar e salvar imagens em formatos populares como PNG e JPG."
   ]
  },
  {
   "cell_type": "markdown",
   "metadata": {},
   "source": [
    "## 1. Instalação das Dependências\n",
    "\n",
    "Primeiro, vamos instalar a biblioteca `Pillow`, que nos ajudará a carregar e salvar as imagens."
   ]
  },
  {
   "cell_type": "code",
   "execution_count": null,
   "metadata": {},
   "outputs": [],
   "source": [
    "%pip install Pillow"
   ]
  },
  {
   "cell_type": "markdown",
   "metadata": {},
   "source": [
    "## 2. Funções de Processamento de Imagem\n",
    "\n",
    "Estas são as funções principais que realizam a conversão da imagem. A lógica de manipulação de pixels é feita em Python puro."
   ]
  },
  {
   "cell_type": "code",
   "execution_count": null,
   "metadata": {},
   "outputs": [],
   "source": [
    "from PIL import Image\n",
    "import matplotlib.pyplot as plt\n",
    "\n",
    "def to_grayscale(pixels):\n",
    "    \"\"\"Converte uma lista de pixels RGB para escala de cinza.\"\"\"\n",
    "    gray_pixels = []\n",
    "    for r, g, b in pixels:\n",
    "        gray_value = (r + g + b) // 3\n",
    "        gray_pixels.append((gray_value, gray_value, gray_value))\n",
    "    return gray_pixels\n",
    "\n",
    "def to_binarized(pixels, threshold=127):\n",
    "    \"\"\"Converte uma lista de pixels RGB para preto e branco (binarizado).\"\"\"\n",
    "    binarized_pixels = []\n",
    "    gray_pixels = to_grayscale(pixels)\n",
    "    for r, _, _ in gray_pixels:\n",
    "        if r < threshold:\n",
    "            binarized_pixels.append((0, 0, 0))\n",
    "        else:\n",
    "            binarized_pixels.append((255, 255, 255))\n",
    "    return binarized_pixels\n",
    "\n",
    "def display_images(original, grayscale, binarized):\n",
    "    \"\"\"Exibe as três imagens lado a lado.\"\"\"\n",
    "    plt.figure(figsize=(15, 5))\n",
    "    \n",
    "    plt.subplot(1, 3, 1)\n",
    "    plt.imshow(original)\n",
    "    plt.title('Original')\n",
    "    plt.axis('off')\n",
    "    \n",
    "    plt.subplot(1, 3, 2)\n",
    "    plt.imshow(grayscale, cmap='gray')\n",
    "    plt.title('Escala de Cinza')\n",
    "    plt.axis('off')\n",
    "    \n",
    "    plt.subplot(1, 3, 3)\n",
    "    plt.imshow(binarized, cmap='gray')\n",
    "    plt.title('Binarizada')\n",
    "    plt.axis('off')\n",
    "    \n",
    "    plt.show()"
   ]
  },
  {
   "cell_type": "markdown",
   "metadata": {},
   "source": [
    "## 3. Carregar e Processar a Imagem\n",
    "\n",
    "Execute a célula abaixo para fazer o upload de uma imagem do seu computador. Depois, a imagem será processada e os resultados serão exibidos."
   ]
  },
  {
   "cell_type": "code",
   "execution_count": null,
   "metadata": {},
   "outputs": [],
   "source": [
    "from google.colab import files\n",
    "import io\n",
    "\n",
    "print(\"Por favor, faça o upload de uma imagem para processamento.\")\n",
    "uploaded = files.upload()\n",
    "\n",
    "if not uploaded:\n",
    "    print(\"Nenhuma imagem foi enviada. Execute a célula novamente para tentar de novo.\")\n",
    "else:\n",
    "    # Pega o nome do primeiro arquivo enviado\n",
    "    filename = next(iter(uploaded))\n",
    "    \n",
    "    # Abre a imagem usando a Pillow\n",
    "    original_image = Image.open(io.BytesIO(uploaded[filename])).convert('RGB')\n",
    "    width, height = original_image.size\n",
    "    original_pixels = list(original_image.getdata())\n",
    "    \n",
    "    # Processa a imagem\n",
    "    print(\"Processando a imagem...\")\n",
    "    gray_pixels = to_grayscale(original_pixels)\n",
    "    binarized_pixels = to_binarized(original_pixels)\n",
    "    \n",
    "    # Cria objetos de imagem a partir dos pixels processados\n",
    "    gray_image = Image.new('RGB', (width, height))\n",
    "    gray_image.putdata(gray_pixels)\n",
    "    \n",
    "    binarized_image = Image.new('RGB', (width, height))\n",
    "    binarized_image.putdata(binarized_pixels)\n",
    "    \n",
    "    # Exibe as imagens\n",
    "    display_images(original_image, gray_image, binarized_image)\n",
    "    \n",
    "    # Salva as imagens processadas\n",
    "    gray_image.save('grayscale_result.png')\n",
    "    binarized_image.save('binarized_result.png')\n",
    "    print(\"Resultados salvos como 'grayscale_result.png' e 'binarized_result.png'\")"
   ]
  }
 ],
 "metadata": {
  "kernelspec": {
   "display_name": "Python 3",
   "language": "python",
   "name": "python3"
  },
  "language_info": {
   "codemirror_mode": {
    "name": "ipython",
    "version": 3
   },
   "file_extension": ".py",
   "mimetype": "text/x-python",
   "name": "python",
   "nbconvert_exporter": "python",
   "pygments_lexer": "ipython3",
   "version": "3.9.7"
  }
 },
 "nbformat": 4,
 "nbformat_minor": 4
}